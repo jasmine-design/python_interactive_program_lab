{
 "cells": [
  {
   "cell_type": "code",
   "execution_count": 2,
   "id": "38788e9f-d89f-4d44-8f5b-ab82b53e74aa",
   "metadata": {},
   "outputs": [
    {
     "name": "stdin",
     "output_type": "stream",
     "text": [
      "Enter the number:  30488500\n"
     ]
    },
    {
     "name": "stdout",
     "output_type": "stream",
     "text": [
      "00588403\n"
     ]
    }
   ],
   "source": [
    "num = int(input(\"Enter the number: \"))  \n",
    "list = []\n",
    "\n",
    "def reverse(num):#將數字翻轉輸出\n",
    "    if (num > 0):  \n",
    "        Reminder = num % 10\n",
    "        list.append(str(Reminder)) #將 num中最後一個數加入list中 \n",
    "        reverse(num // 10) #recursive function\n",
    "\n",
    "reverse(num)\n",
    "final_num = \"\".join(list)\n",
    "print(final_num)"
   ]
  }
 ],
 "metadata": {
  "kernelspec": {
   "display_name": "Python 3",
   "language": "python",
   "name": "python3"
  },
  "language_info": {
   "codemirror_mode": {
    "name": "ipython",
    "version": 3
   },
   "file_extension": ".py",
   "mimetype": "text/x-python",
   "name": "python",
   "nbconvert_exporter": "python",
   "pygments_lexer": "ipython3",
   "version": "3.8.8"
  }
 },
 "nbformat": 4,
 "nbformat_minor": 5
}
