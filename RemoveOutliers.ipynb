{
 "cells": [
  {
   "cell_type": "code",
   "execution_count": 4,
   "id": "c1429268-6dff-4ca7-adee-88a63f7a1b1d",
   "metadata": {},
   "outputs": [
    {
     "name": "stdin",
     "output_type": "stream",
     "text": [
      "Enter the number of smallest and largest values to remove: 1\n",
      "Enter a value (q or Q to quit): 20\n",
      "Enter a value (q or Q to quit): 1000\n",
      "Enter a value (q or Q to quit): 1\n",
      "Enter a value (q or Q to quit): 3\n",
      "Enter a value (q or Q to quit): 50\n",
      "Enter a value (q or Q to quit): q\n"
     ]
    },
    {
     "name": "stdout",
     "output_type": "stream",
     "text": [
      "The original data: [20, 1000, 1, 3, 50]\n",
      "The data with the outliers removed: [20, 3, 50]\n",
      "The outliers: [1, 1000]\n"
     ]
    }
   ],
   "source": [
    "remove_num = input(\"Enter the number of smallest and largest values to remove:\")\n",
    "num_list = []\n",
    "removed_list = []\n",
    "test = 1          # 用來觀察使用者是否輸入q或Q\n",
    "\n",
    "while(test == 1): \n",
    "    '''將使用者輸入的數字加入num_list'''\n",
    "    num = input(\"Enter a value (q or Q to quit):\")\n",
    "    \n",
    "    if num == 'q' or num == 'Q':\n",
    "        test = 0\n",
    "    else:\n",
    "        num_list.append(int(num))\n",
    "\n",
    "def remove_outliers(list):\n",
    "    '''移除num_list中的min, max，將其加入remove_num中'''\n",
    "    for x in range(int(remove_num)):\n",
    "        removed_list.append(min(num_list))\n",
    "        removed_list.append(max(num_list))\n",
    "        num_list.remove(max(num_list))\n",
    "        num_list.remove(min(num_list))\n",
    "        \n",
    "print(\"The original data: {}\".format(num_list))\n",
    "remove_outliers(num_list)\n",
    "print(\"The data with the outliers removed: {}\".format(num_list))   \n",
    "print(\"The outliers: {}\".format(removed_list))"
   ]
  },
  {
   "cell_type": "code",
   "execution_count": null,
   "id": "cd032834-caaa-45e9-a074-c7f45b888555",
   "metadata": {},
   "outputs": [],
   "source": []
  }
 ],
 "metadata": {
  "kernelspec": {
   "display_name": "Python 3",
   "language": "python",
   "name": "python3"
  },
  "language_info": {
   "codemirror_mode": {
    "name": "ipython",
    "version": 3
   },
   "file_extension": ".py",
   "mimetype": "text/x-python",
   "name": "python",
   "nbconvert_exporter": "python",
   "pygments_lexer": "ipython3",
   "version": "3.8.8"
  }
 },
 "nbformat": 4,
 "nbformat_minor": 5
}
