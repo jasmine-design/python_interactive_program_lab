{
 "cells": [
  {
   "cell_type": "code",
   "execution_count": 4,
   "id": "99ca0542-3eba-41c0-954b-f70e2376e35d",
   "metadata": {},
   "outputs": [
    {
     "name": "stdout",
     "output_type": "stream",
     "text": [
      "Welcome to ROCK, PAPER, SCISSORS game!\n"
     ]
    },
    {
     "name": "stdin",
     "output_type": "stream",
     "text": [
      "Enter your move: (r)ock (p)aper (s)cissors s\n"
     ]
    },
    {
     "name": "stdout",
     "output_type": "stream",
     "text": [
      "SCISSORS verse...\n",
      "SCISSORS\n",
      "It is a tie!\n"
     ]
    },
    {
     "name": "stdin",
     "output_type": "stream",
     "text": [
      "Enter your move: (r)ock (p)aper (s)cissors s\n"
     ]
    },
    {
     "name": "stdout",
     "output_type": "stream",
     "text": [
      "SCISSORS verse...\n",
      "PAPER\n",
      "You win!\n",
      "You have 1 ties and 0 loses before your first win.\n"
     ]
    }
   ],
   "source": [
    "import random\n",
    "\n",
    "def judgement(act,computer_act):  \n",
    "    '''act:使用者出拳 computer_act：電腦出拳，判斷使用者的輸贏'''\n",
    "    if act == computer_act:\n",
    "        return 'tie'\n",
    "    elif act == \"r\":\n",
    "        if computer_act == \"s\":\n",
    "            return 'win'\n",
    "        else:\n",
    "            return 'lose'\n",
    "    elif act == \"p\":\n",
    "        if computer_act == \"r\":\n",
    "            return 'win'\n",
    "        else:\n",
    "            return 'lose'\n",
    "    elif act == \"s\":\n",
    "        if computer_act == \"p\":\n",
    "            return 'win'\n",
    "        else:\n",
    "            return 'lose'\n",
    "\n",
    "def count(sta):\n",
    "    '''統計使用者平手、輸的次數'''\n",
    "    global tie_times, lose_times\n",
    "    if sta == 'tie':\n",
    "        tie_times += 1\n",
    "    elif sta == 'lose':\n",
    "        lose_times += 1\n",
    "\n",
    "def win_lose_message():\n",
    "    '''傳送輸贏的訊息'''\n",
    "    list = [\"r\", \"p\", \"s\"]\n",
    "    action_dict = {\"r\": \"ROCK\", \"p\": \"PAPER\", \"s\": \"SCISSORS\"}\n",
    "    global status\n",
    "    while status != 'win':\n",
    "        action = input(\"Enter your move: (r)ock (p)aper (s)cissors\")\n",
    "        computer_action = (list[random.randint(0, 2)])\n",
    "        status = judgement(action, computer_action)     # 呼叫 judgement(act,computer_act) function\n",
    "        count(status)                                   # 呼叫 count(sta) function\n",
    "        print('{} verse...'.format(action_dict[action]) + '\\n{}'.format(action_dict[computer_action]))  # 印出輸贏結果\n",
    "        if status == \"tie\":\n",
    "            print('It is a tie!')\n",
    "        elif status == \"lose\":\n",
    "            print('You lose!')\n",
    "        elif status == \"win\":\n",
    "            print('You win!\\nYou have {} ties and {} loses before your first win.'.format(tie_times, lose_times))\n",
    "\n",
    "\n",
    "if __name__ == '__main__':\n",
    "    status = 'none'\n",
    "    tie_times, lose_times = 0, 0\n",
    "    welcome_message = \"Welcome to ROCK, PAPER, SCISSORS game!\"  \n",
    "    print(welcome_message)            # 印出「歡迎開始遊戲」的訊息\n",
    "    win_lose_message()                # 印出輸贏結果"
   ]
  },
  {
   "cell_type": "code",
   "execution_count": null,
   "id": "fb94d490-1255-4426-ac99-bfe67117f710",
   "metadata": {},
   "outputs": [],
   "source": []
  }
 ],
 "metadata": {
  "kernelspec": {
   "display_name": "Python 3",
   "language": "python",
   "name": "python3"
  },
  "language_info": {
   "codemirror_mode": {
    "name": "ipython",
    "version": 3
   },
   "file_extension": ".py",
   "mimetype": "text/x-python",
   "name": "python",
   "nbconvert_exporter": "python",
   "pygments_lexer": "ipython3",
   "version": "3.8.8"
  }
 },
 "nbformat": 4,
 "nbformat_minor": 5
}
